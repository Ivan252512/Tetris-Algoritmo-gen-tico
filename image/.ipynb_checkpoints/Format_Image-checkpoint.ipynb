{
 "cells": [
  {
   "cell_type": "code",
   "execution_count": 22,
   "metadata": {},
   "outputs": [],
   "source": [
    "import glob\n",
    "from PIL import Image, ImageOps, ImageFilter\n",
    "\n",
    "def read_all_png(path):\n",
    "    image_list = []\n",
    "    for filename in glob.glob(path):\n",
    "        im=Image.open(filename)\n",
    "        image_list.append(im)\n",
    "    return image_list"
   ]
  },
  {
   "cell_type": "code",
   "execution_count": 23,
   "metadata": {},
   "outputs": [],
   "source": [
    "def crop_all_blocks(image_list, new_size):\n",
    "    rename = 1\n",
    "    for i in image_list:\n",
    "        im = i.crop(new_size)\n",
    "        im = im.filter(ImageFilter.CONTOUR)\n",
    "        im.save('trainprueba/_'+str(rename)+'.png')\n",
    "        rename+=1"
   ]
  },
  {
   "cell_type": "code",
   "execution_count": 25,
   "metadata": {},
   "outputs": [],
   "source": [
    "images = read_all_png('capturas/*.png')\n",
    "crop_all_blocks(images, (1175, 290, 1275, 390))"
   ]
  },
  {
   "cell_type": "code",
   "execution_count": null,
   "metadata": {},
   "outputs": [],
   "source": []
  }
 ],
 "metadata": {
  "kernelspec": {
   "display_name": "Python 3",
   "language": "python",
   "name": "python3"
  },
  "language_info": {
   "codemirror_mode": {
    "name": "ipython",
    "version": 3
   },
   "file_extension": ".py",
   "mimetype": "text/x-python",
   "name": "python",
   "nbconvert_exporter": "python",
   "pygments_lexer": "ipython3",
   "version": "3.7.3"
  }
 },
 "nbformat": 4,
 "nbformat_minor": 2
}
